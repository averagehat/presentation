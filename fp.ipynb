{
 "cells": [
  {
   "cell_type": "markdown",
   "metadata": {
    "slideshow": {
     "slide_type": "slide"
    }
   },
   "source": [
    "$f(x) = x * 2$\n",
    "\n",
    "$f$ is a function.\n",
    "$x$ is the input."
   ]
  },
  {
   "cell_type": "markdown",
   "metadata": {
    "slideshow": {
     "slide_type": "slide"
    }
   },
   "source": [
    "The domain of $f$ is all inputs $x$ where $f(x)$ is defined.\n"
   ]
  },
  {
   "cell_type": "markdown",
   "metadata": {
    "slideshow": {
     "slide_type": "slide"
    }
   },
   "source": [
    "$f(x)  \\ \\ \\ \\ \\ \\ \\ \\                        = \\ \\ \\ \\  \\ \\ \\         x * 2$\n",
    "\n",
    "$f$ is a function. &nbsp;&nbsp;&nbsp;&nbsp;    $x * 2$ is a process for producing output $f(x)$ <br>\n",
    "$x$ is the input.  &nbsp;&nbsp;&nbsp;&nbsp;        "
   ]
  },
  {
   "cell_type": "markdown",
   "metadata": {
    "slideshow": {
     "slide_type": "subslide"
    }
   },
   "source": [
    "$f(x) = x * 2$ <br>\n",
    "$y = x * 2$"
   ]
  },
  {
   "cell_type": "markdown",
   "metadata": {},
   "source": [
    "Evaluating functions\n",
    "* Call $f$ with parameter $3$\n",
    "* Solve for $y$ when $x$ is $3$."
   ]
  },
  {
   "cell_type": "markdown",
   "metadata": {},
   "source": []
  },
  {
   "cell_type": "markdown",
   "metadata": {
    "slideshow": {
     "slide_type": "fragment"
    }
   },
   "source": [
    "1. Substitute $x$ with the number $3$. <br>\n",
    "  $y = x * 2$ <br>\n",
    "  $y = 3 * 2$\n",
    "  \n",
    "\n"
   ]
  },
  {
   "cell_type": "markdown",
   "metadata": {
    "slideshow": {
     "slide_type": "fragment"
    }
   },
   "source": [
    "2. Call the $*$ function on $3$ and $2$. <br>\n",
    "  $x * y = x * y$ <br>\n",
    "  $3 * 2 = 3 * 2$ <br>\n",
    "  $3 * 2 = 6$"
   ]
  },
  {
   "cell_type": "markdown",
   "metadata": {
    "slideshow": {
     "slide_type": "fragment"
    }
   },
   "source": [
    "3. Substitute the result. <br>\n",
    "  $y = 6$"
   ]
  },
  {
   "cell_type": "markdown",
   "metadata": {},
   "source": [
    "$f(x) = x * 2$ <br>\n",
    "$f(3) = 3 * 2$ <br>\n",
    "$f(3) = 6$"
   ]
  },
  {
   "cell_type": "markdown",
   "metadata": {},
   "source": [
    "Pure functions can be modelled as substitution <br>\n",
    "Or \"simplification.\"\n",
    "$f(3)$ is a value like 7, 9...\n",
    "$f$ can be memoized."
   ]
  },
  {
   "cell_type": "markdown",
   "metadata": {},
   "source": [
    "1. The same input always produces the same output.\n",
    "2.  Running the function doesn't cause side-effects that are noticeable outside that function\t"
   ]
  },
  {
   "cell_type": "markdown",
   "metadata": {},
   "source": [
    "$f(3)$ always returns $6$ . . . <br>\n",
    "$f(3)$ is *equal* to $6$."
   ]
  },
  {
   "cell_type": "markdown",
   "metadata": {},
   "source": [
    "The impure alternatives . . . \n",
    "Violating property 1."
   ]
  },
  {
   "cell_type": "markdown",
   "metadata": {},
   "source": [
    "* Pure functions are easy to reason about.\n",
    "  * They're simply substitution.\n",
    "  * All dependencies are captured in the parameters.\n",
    "* Impure functions are difficult to reason about.\n",
    "  * They're unpredictable.\n",
    "  * They have indefinite hidden dependencies."
   ]
  },
  {
   "cell_type": "markdown",
   "metadata": {},
   "source": [
    "* Pure functions are easy to test.\n",
    "  * *All* possible inputs are defined by the type of its parameters.\n",
    "  * All dependencies and possible input states are captured in the type of its parameters.\n",
    "  * I/O is \"not allowed.\"\n",
    "  * Simply pass in data!\n",
    "\n",
    "  "
   ]
  },
  {
   "cell_type": "markdown",
   "metadata": {},
   "source": [
    "* Impure functions are difficult to test.\n",
    "  * Require simulating state transitions.\n",
    "  * Require mocking.\n",
    "  * I/O may be require."
   ]
  },
  {
   "cell_type": "markdown",
   "metadata": {},
   "source": [
    "The function does not cause observable side-effects.\n",
    "A side-effect is \"observable\" when it can be noticed outside the scope of the function itself.\n"
   ]
  },
  {
   "cell_type": "markdown",
   "metadata": {},
   "source": [
    "* Changing a mutable parameter.\n",
    "* Changing a global variable.\n",
    "* Doing something to the outside world.\n",
    "  * print to the console\n",
    "  * write html to the browser document\n",
    "  * make a POST request"
   ]
  }
 ],
 "metadata": {
  "celltoolbar": "Slideshow",
  "kernelspec": {
   "display_name": "Haskell",
   "language": "haskell",
   "name": "haskell"
  },
  "language_info": {
   "codemirror_mode": "ihaskell",
   "file_extension": ".hs",
   "name": "haskell",
   "version": "7.10.2"
  }
 },
 "nbformat": 4,
 "nbformat_minor": 0
}
